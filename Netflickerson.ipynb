{
  "nbformat": 4,
  "nbformat_minor": 0,
  "metadata": {
    "colab": {
      "name": "Projeto 2 - Parte B.ipynb",
      "provenance": [],
      "collapsed_sections": [],
      "toc_visible": true,
      "include_colab_link": true
    },
    "kernelspec": {
      "name": "python3",
      "display_name": "Python 3"
    }
  },
  "cells": [
    {
      "cell_type": "markdown",
      "metadata": {
        "id": "view-in-github",
        "colab_type": "text"
      },
      "source": [
        "<a href=\"https://colab.research.google.com/github/BryanCruz/Netflickerson/blob/master/Netflickerson.ipynb\" target=\"_parent\"><img src=\"https://colab.research.google.com/assets/colab-badge.svg\" alt=\"Open In Colab\"/></a>"
      ]
    },
    {
      "cell_type": "markdown",
      "metadata": {
        "id": "87dxVxgUjWNx"
      },
      "source": [
        "# **Projeto 2 - Parte B - Netflickerson**\n",
        "\n",
        "Bryan Bialokur da Cruz - 11052316\n",
        "\n",
        "Filipi de Carvalho Brabo - 11040016"
      ]
    },
    {
      "cell_type": "markdown",
      "metadata": {
        "id": "bbdVzJK4Jb6n"
      },
      "source": [
        "### **Chatbot com Python e NLTK para pesquisar filmes e séries da Netflix**"
      ]
    },
    {
      "cell_type": "markdown",
      "metadata": {
        "id": "d3w2YjRGT7Zv"
      },
      "source": [
        "O objetivo do projeto é criar um Chatbot que, a partir de uma sentença escrita pelo usuário, identifique alguns filmes e séries da Netflix que tenham relação com essa sentença. Além disso, o Chatbot também irá responder saudações e despedidas do usuário.\n",
        "\n",
        "Como a base de dados utilizada está em inglês, fizemos o Chatbot responder apenas mensagens em inglês."
      ]
    },
    {
      "cell_type": "markdown",
      "metadata": {
        "id": "OHV2X5xDXMfw"
      },
      "source": [
        "### **01. Importação das bibliotecas**"
      ]
    },
    {
      "cell_type": "code",
      "metadata": {
        "id": "PIyb0pau_cME"
      },
      "source": [
        "import re\n",
        "import nltk\n",
        "import pandas as pd\n",
        "import numpy as np\n",
        "import random\n",
        "import string"
      ],
      "execution_count": null,
      "outputs": []
    },
    {
      "cell_type": "code",
      "metadata": {
        "id": "34XChv2h_wYU",
        "colab": {
          "base_uri": "https://localhost:8080/"
        },
        "outputId": "ee33e37d-6505-4780-e3e9-3d87a3bd2e69"
      },
      "source": [
        "nltk.download('punkt')"
      ],
      "execution_count": null,
      "outputs": [
        {
          "output_type": "stream",
          "text": [
            "[nltk_data] Downloading package punkt to /root/nltk_data...\n",
            "[nltk_data]   Package punkt is already up-to-date!\n"
          ],
          "name": "stdout"
        },
        {
          "output_type": "execute_result",
          "data": {
            "text/plain": [
              "True"
            ]
          },
          "metadata": {
            "tags": []
          },
          "execution_count": 125
        }
      ]
    },
    {
      "cell_type": "code",
      "metadata": {
        "id": "gvicIBfS_6P_"
      },
      "source": [
        "!pip install spacy --upgrade > /dev/null"
      ],
      "execution_count": null,
      "outputs": []
    },
    {
      "cell_type": "code",
      "metadata": {
        "id": "8rRL75d9APmi",
        "colab": {
          "base_uri": "https://localhost:8080/",
          "height": 35
        },
        "outputId": "bf63e814-d614-4643-90bb-0bd273cd1078"
      },
      "source": [
        "import spacy\n",
        "spacy.__version__\n",
        "#pip install spacy==2.2.3"
      ],
      "execution_count": null,
      "outputs": [
        {
          "output_type": "execute_result",
          "data": {
            "application/vnd.google.colaboratory.intrinsic+json": {
              "type": "string"
            },
            "text/plain": [
              "'2.3.4'"
            ]
          },
          "metadata": {
            "tags": []
          },
          "execution_count": 127
        }
      ]
    },
    {
      "cell_type": "code",
      "metadata": {
        "id": "70yEWEp9AUkD",
        "colab": {
          "base_uri": "https://localhost:8080/",
          "height": 35
        },
        "outputId": "209856a9-acd4-4a4a-bdc8-388859c03aa1"
      },
      "source": [
        "nltk.__version__"
      ],
      "execution_count": null,
      "outputs": [
        {
          "output_type": "execute_result",
          "data": {
            "application/vnd.google.colaboratory.intrinsic+json": {
              "type": "string"
            },
            "text/plain": [
              "'3.2.5'"
            ]
          },
          "metadata": {
            "tags": []
          },
          "execution_count": 128
        }
      ]
    },
    {
      "cell_type": "code",
      "metadata": {
        "id": "XXZdUf3IAgox"
      },
      "source": [
        "!python3 -m spacy download en > /dev/null"
      ],
      "execution_count": null,
      "outputs": []
    },
    {
      "cell_type": "markdown",
      "metadata": {
        "id": "DqGDlGUpJslb"
      },
      "source": [
        "### **02. Carregamento e pré-processamento da base de dados**"
      ]
    },
    {
      "cell_type": "markdown",
      "metadata": {
        "id": "FZ96TofuYafH"
      },
      "source": [
        "**Carregamento da base de dados**"
      ]
    },
    {
      "cell_type": "markdown",
      "metadata": {
        "id": "VyCt9UOVVB8-"
      },
      "source": [
        "Base de dados conteúdo informações sobre filmes e séries da Netflix, tais como título, diretor, elenco, descrição, etc."
      ]
    },
    {
      "cell_type": "code",
      "metadata": {
        "id": "NgG8q4NMBI_6"
      },
      "source": [
        "data = pd.read_csv('https://www.dropbox.com/s/gp7tzld5vq38hvi/netflix_titles.csv?dl=1')"
      ],
      "execution_count": null,
      "outputs": []
    },
    {
      "cell_type": "code",
      "metadata": {
        "colab": {
          "base_uri": "https://localhost:8080/",
          "height": 448
        },
        "id": "kKJt8M8Wn6sF",
        "outputId": "a67e4d0d-aa59-48f5-fa16-c87c11ece6fd"
      },
      "source": [
        "data = data.fillna(\"\")\n",
        "data.sample(3)"
      ],
      "execution_count": null,
      "outputs": [
        {
          "output_type": "execute_result",
          "data": {
            "text/html": [
              "<div>\n",
              "<style scoped>\n",
              "    .dataframe tbody tr th:only-of-type {\n",
              "        vertical-align: middle;\n",
              "    }\n",
              "\n",
              "    .dataframe tbody tr th {\n",
              "        vertical-align: top;\n",
              "    }\n",
              "\n",
              "    .dataframe thead th {\n",
              "        text-align: right;\n",
              "    }\n",
              "</style>\n",
              "<table border=\"1\" class=\"dataframe\">\n",
              "  <thead>\n",
              "    <tr style=\"text-align: right;\">\n",
              "      <th></th>\n",
              "      <th>show_id</th>\n",
              "      <th>type</th>\n",
              "      <th>title</th>\n",
              "      <th>director</th>\n",
              "      <th>cast</th>\n",
              "      <th>country</th>\n",
              "      <th>date_added</th>\n",
              "      <th>release_year</th>\n",
              "      <th>rating</th>\n",
              "      <th>duration</th>\n",
              "      <th>listed_in</th>\n",
              "      <th>description</th>\n",
              "    </tr>\n",
              "  </thead>\n",
              "  <tbody>\n",
              "    <tr>\n",
              "      <th>3574</th>\n",
              "      <td>404067</td>\n",
              "      <td>Movie</td>\n",
              "      <td>The Craft</td>\n",
              "      <td>Andrew Fleming</td>\n",
              "      <td>Robin Tunney, Fairuza Balk, Neve Campbell, Rachel True, Skeet Ulrich, Christine Taylor, Breckin Meyer, Nathaniel Marston, Cliff De Young, Assumpta Serna</td>\n",
              "      <td>United States</td>\n",
              "      <td>January 1, 2020</td>\n",
              "      <td>1996</td>\n",
              "      <td>R</td>\n",
              "      <td>101 min</td>\n",
              "      <td>Horror Movies, Thrillers</td>\n",
              "      <td>At a Catholic school, a new girl falls in with a clique of teen witches who wield their powers against anyone who crosses them, even their parents.</td>\n",
              "    </tr>\n",
              "    <tr>\n",
              "      <th>10</th>\n",
              "      <td>80169755</td>\n",
              "      <td>Movie</td>\n",
              "      <td>Joaquín Reyes: Una y no más</td>\n",
              "      <td>José Miguel Contreras</td>\n",
              "      <td>Joaquín Reyes</td>\n",
              "      <td></td>\n",
              "      <td>September 8, 2017</td>\n",
              "      <td>2017</td>\n",
              "      <td>TV-MA</td>\n",
              "      <td>78 min</td>\n",
              "      <td>Stand-Up Comedy</td>\n",
              "      <td>Comedian and celebrity impersonator Joaquín Reyes decides to be his zesty self for a night of stories about buses, bathroom habits, royalty and more.</td>\n",
              "    </tr>\n",
              "    <tr>\n",
              "      <th>884</th>\n",
              "      <td>80187618</td>\n",
              "      <td>Movie</td>\n",
              "      <td>Manje Bistre</td>\n",
              "      <td>Baljit Singh Deo</td>\n",
              "      <td>Gippy Grewal, Sonam Bajwa, Karamjit Anmol, Jaggi Singh, B.N. Sharma, Hobby Dhaliwal, Rana Ranbir, Sardar Sohi, Anita Devgan, Harby Sangha</td>\n",
              "      <td>India</td>\n",
              "      <td>October 1, 2018</td>\n",
              "      <td>2017</td>\n",
              "      <td>TV-PG</td>\n",
              "      <td>136 min</td>\n",
              "      <td>Comedies, Dramas, International Movies</td>\n",
              "      <td>While prepping for a family wedding, a young man falls for his sister’s friend, who has already been promised to someone else.</td>\n",
              "    </tr>\n",
              "  </tbody>\n",
              "</table>\n",
              "</div>"
            ],
            "text/plain": [
              "       show_id  ...                                                                                                                                            description\n",
              "3574    404067  ...    At a Catholic school, a new girl falls in with a clique of teen witches who wield their powers against anyone who crosses them, even their parents.\n",
              "10    80169755  ...  Comedian and celebrity impersonator Joaquín Reyes decides to be his zesty self for a night of stories about buses, bathroom habits, royalty and more.\n",
              "884   80187618  ...                         While prepping for a family wedding, a young man falls for his sister’s friend, who has already been promised to someone else.\n",
              "\n",
              "[3 rows x 12 columns]"
            ]
          },
          "metadata": {
            "tags": []
          },
          "execution_count": 131
        }
      ]
    },
    {
      "cell_type": "code",
      "metadata": {
        "colab": {
          "base_uri": "https://localhost:8080/"
        },
        "id": "4_0uX8HOnxhh",
        "outputId": "c3ed191e-10cd-455d-ac95-b4c79a24434c"
      },
      "source": [
        "print(data.columns)\n",
        "print(data.dtypes)"
      ],
      "execution_count": null,
      "outputs": [
        {
          "output_type": "stream",
          "text": [
            "Index(['show_id', 'type', 'title', 'director', 'cast', 'country', 'date_added',\n",
            "       'release_year', 'rating', 'duration', 'listed_in', 'description'],\n",
            "      dtype='object')\n",
            "show_id          int64\n",
            "type            object\n",
            "title           object\n",
            "director        object\n",
            "cast            object\n",
            "country         object\n",
            "date_added      object\n",
            "release_year     int64\n",
            "rating          object\n",
            "duration        object\n",
            "listed_in       object\n",
            "description     object\n",
            "dtype: object\n"
          ],
          "name": "stdout"
        }
      ]
    },
    {
      "cell_type": "code",
      "metadata": {
        "id": "f5dGbSwMO_GD"
      },
      "source": [
        "interest_columns = [\"type\", \"title\", \"director\", \"cast\", \"country\", \"release_year\", \"listed_in\", \"description\"]"
      ],
      "execution_count": null,
      "outputs": []
    },
    {
      "cell_type": "code",
      "metadata": {
        "id": "LGOTfhOjoICF"
      },
      "source": [
        "data[\"words\"] = data[interest_columns].astype(\"string\").agg(' '.join, axis=1)"
      ],
      "execution_count": null,
      "outputs": []
    },
    {
      "cell_type": "code",
      "metadata": {
        "colab": {
          "base_uri": "https://localhost:8080/"
        },
        "id": "ZMcxz6iSql4S",
        "outputId": "2ab36cab-4a49-4c0a-beee-bdd5693c13b4"
      },
      "source": [
        "data[\"words\"].sample(5)"
      ],
      "execution_count": null,
      "outputs": [
        {
          "output_type": "execute_result",
          "data": {
            "text/plain": [
              "5268                                                                                                                                                                                    TV Show What in the World Happened?  Eun-mi Go, Jaehyo, Eun-Hyung Jo, Ha-yeon Kim, Shin Yi, Kwang-sun Park  2015 International TV Shows, Korean TV Shows, Romantic TV Shows A happy secret romance between a 40-year-old woman and a 25-year-old man is complicated after a greeting card grants her wish to be young again.\n",
              "4434                                                                                        Movie For the Love of Spock Adam Nimoy Leonard Nimoy, William Shatner, George Takei, Nichelle Nichols, Chris Pine, Zachary Quinto, Simon Pegg, Zoe Saldana, Jim Parsons, Jason Alexander, Neil deGrasse Tyson, J.J. Abrams Canada, United States 2016 Documentaries The son of actor Leonard Nimoy directs this moving look at his father's portrayal of Spock, the iconic \"Star Trek\" character he played for 50 years.\n",
              "3663                                                                                                                                                                      Movie Maacher Jhol Pratim D. Gupta Ritwick Chakraborty, Mamata Shankar, Paoli Dam, Kaya Blocksage, Sauraseni Maitra, Arjun Chakrabarty India, France 2017 Dramas, International Movies On his first visit to his home city of Kolkata in 13 years, a Paris-based chef is faced with a cooking challenge that will change his life forever.\n",
              "2093                                                                                                                                                                                                                                                                     Movie ReMastered: The Miami Showband Massacre Stuart Sender   2019 Documentaries, Music & Musicals The killing of three members of the Miami Showband sent shock waves across Ireland in 1975. Now one survivor doggedly pursues the truth.\n",
              "4613    TV Show Nobel  Aksel Hennie, Tuva Novotny, Anders Danielsen Lie, Mads Sjøgård Pettersen, Danica Curcic, Christian Rubeck, Odd Magnus Williamson, Mattis Herman Nyquist, Hallvard Holmen, Atheer Adel, Mohammad-Ali Behboudi, Ayesha Wolasmal, Ramin Yazdani, Rolf Kristian Larsen, Dennis Storhøi Norway 2016 International TV Shows, TV Dramas, TV Thrillers A series of incidents in Afghanistan set complicated political and personal events in motion for a returning Norwegian Special Forces officer.\n",
              "Name: words, dtype: object"
            ]
          },
          "metadata": {
            "tags": []
          },
          "execution_count": 135
        }
      ]
    },
    {
      "cell_type": "markdown",
      "metadata": {
        "id": "2moCDsI1Yg2e"
      },
      "source": [
        "**Pré-processamento da base de dados**"
      ]
    },
    {
      "cell_type": "code",
      "metadata": {
        "id": "07S0Ke02DjUD",
        "colab": {
          "base_uri": "https://localhost:8080/",
          "height": 69
        },
        "outputId": "70726d31-496e-477a-d39d-8fbdf0f4336e"
      },
      "source": [
        "lista_sentencas = data[\"words\"].str.lower().tolist()\n",
        "lista_sentencas[0]"
      ],
      "execution_count": null,
      "outputs": [
        {
          "output_type": "execute_result",
          "data": {
            "application/vnd.google.colaboratory.intrinsic+json": {
              "type": "string"
            },
            "text/plain": [
              "'movie norm of the north: king sized adventure richard finn, tim maltby alan marriott, andrew toth, brian dobson, cole howard, jennifer cameron, jonathan holmes, lee tockar, lisa durupt, maya kay, michael dobson united states, india, south korea, china 2019 children & family movies, comedies before planning an awesome wedding for his grandfather, a polar bear king must take back a stolen artifact from an evil archaeologist first.'"
            ]
          },
          "metadata": {
            "tags": []
          },
          "execution_count": 136
        }
      ]
    },
    {
      "cell_type": "code",
      "metadata": {
        "id": "KXOAmd8SEFKO",
        "colab": {
          "base_uri": "https://localhost:8080/"
        },
        "outputId": "dc7e01b8-a5b2-4d59-8d11-522c62e6bacf"
      },
      "source": [
        "len(lista_sentencas)"
      ],
      "execution_count": null,
      "outputs": [
        {
          "output_type": "execute_result",
          "data": {
            "text/plain": [
              "6234"
            ]
          },
          "metadata": {
            "tags": []
          },
          "execution_count": 137
        }
      ]
    },
    {
      "cell_type": "code",
      "metadata": {
        "id": "ltdV_8LtEN9J",
        "colab": {
          "base_uri": "https://localhost:8080/",
          "height": 52
        },
        "outputId": "09ab017a-652d-45cd-8dfa-257c9365d36f"
      },
      "source": [
        "lista_sentencas[1]"
      ],
      "execution_count": null,
      "outputs": [
        {
          "output_type": "execute_result",
          "data": {
            "application/vnd.google.colaboratory.intrinsic+json": {
              "type": "string"
            },
            "text/plain": [
              "'movie jandino: whatever it takes  jandino asporaat united kingdom 2016 stand-up comedy jandino asporaat riffs on the challenges of raising kids and serenades the audience with a rousing rendition of \"sex on fire\" in his comedy show.'"
            ]
          },
          "metadata": {
            "tags": []
          },
          "execution_count": 138
        }
      ]
    },
    {
      "cell_type": "code",
      "metadata": {
        "id": "_2Yu9NkxETt1",
        "colab": {
          "base_uri": "https://localhost:8080/"
        },
        "outputId": "445709b5-08a7-4ef8-b157-9a74741ef0fd"
      },
      "source": [
        "pln = spacy.load('en')\n",
        "pln"
      ],
      "execution_count": null,
      "outputs": [
        {
          "output_type": "execute_result",
          "data": {
            "text/plain": [
              "<spacy.lang.en.English at 0x7f7a50646198>"
            ]
          },
          "metadata": {
            "tags": []
          },
          "execution_count": 139
        }
      ]
    },
    {
      "cell_type": "code",
      "metadata": {
        "id": "tTcghdGjEeip"
      },
      "source": [
        "stop_words = spacy.lang.en.stop_words.STOP_WORDS"
      ],
      "execution_count": null,
      "outputs": []
    },
    {
      "cell_type": "code",
      "metadata": {
        "id": "X8ITIHzpEjYb",
        "colab": {
          "base_uri": "https://localhost:8080/"
        },
        "outputId": "02f916f7-7697-42d3-a58c-e7bc2aab8e24"
      },
      "source": [
        "print(stop_words)"
      ],
      "execution_count": null,
      "outputs": [
        {
          "output_type": "stream",
          "text": [
            "{'get', 'once', 'anyhow', 'herself', 'while', 'less', 'what', 'ca', 'show', 'regarding', 'its', 'we', 'no', 'nowhere', 'own', 'forty', 'well', 'somewhere', 'each', 'full', 'twelve', 'whenever', 'when', \"'re\", 'either', 'anyone', 'does', 'over', 'at', 'some', 'into', 'sometime', 'least', 'perhaps', 'thence', 'for', 'front', 'someone', 'by', 'one', 'where', '‘ve', 'everyone', 'under', 'whither', 'but', 'it', 'almost', 'neither', 'n’t', 'be', 'noone', 'hundred', 'most', \"'m\", 'namely', 'out', 'mine', 'take', 'behind', 'first', 'through', 'any', 'seem', '‘ll', 'an', 'thereby', 'per', 'himself', 'other', 'between', 'can', 'eight', 'further', 'anything', 'he', 'often', 'anyway', 'even', 'off', 'ourselves', 'serious', 'them', 'up', 'ever', 'hereby', 'were', \"'ll\", 'above', 'throughout', 'rather', 'two', 'elsewhere', 'various', 'others', 'again', '‘s', 'yours', 'although', 'yourselves', 'being', 'enough', 'hence', 'could', 'go', 'on', 'am', 'me', 'top', 'than', \"'s\", 'fifteen', 'her', 'thru', 'please', 'both', 'i', 'or', 'several', 'along', 'across', 'would', 'always', 'yet', 'this', 'below', 'eleven', 'part', 'whereafter', 'sometimes', 'seems', 'cannot', 'alone', 're', 'formerly', 'all', 'call', 'the', 'via', 'has', 'whereby', 'whole', 'thereupon', 'their', 'unless', 'about', 'ten', 'four', 'whoever', 'should', 'they', 'same', 'why', 'beyond', 'nothing', 'have', 'wherever', 'also', 'latter', 'therein', 'toward', 'back', 'keep', 'whence', 'say', 'really', \"'ve\", 'might', 'five', 'somehow', 'during', 'everything', 'only', 'since', 'else', 'latterly', 'there', 'within', 'name', 'from', 'such', 'around', 'doing', 'many', 'nobody', 'our', 'those', 'without', 'herein', 'yourself', 'everywhere', 'few', 'though', 'until', 'fifty', 'to', 'more', 'you', 'meanwhile', 'your', 'nine', 'too', 'and', 'are', 'become', 'been', 'how', 'nevertheless', 'besides', 'sixty', 'itself', '‘re', 'amount', 'his', 'a', 'becomes', 'except', 'former', 'bottom', 'beforehand', 'nor', 'hereupon', 'of', 'still', 'towards', 'was', \"'d\", 'onto', 'had', 'which', '‘m', '’s', 'must', 'six', 'last', 'as', 'therefore', 'before', 'much', 'put', 'every', '’m', 'thus', 'so', 'made', \"n't\", 'whom', 'quite', 'in', 'three', '‘d', 'now', 'n‘t', 'something', 'is', 'do', 'make', 'she', 'after', 'themselves', 'together', 'who', '’ll', 'down', 'hers', 'hereafter', 'ours', 'indeed', 'whereas', 'because', 'against', '’re', 'whatever', 'among', 'amongst', 'empty', 'him', 'then', 'however', 'used', 'if', 'becoming', 'whose', 'see', 'us', 'my', 'twenty', 'anywhere', 'move', 'here', 'did', 'may', 'otherwise', 'side', 'thereafter', 'upon', 'just', 'third', '’d', 'became', 'done', 'due', 'these', 'using', '’ve', 'that', 'afterwards', 'beside', 'give', 'moreover', 'next', 'seeming', 'none', 'not', 'whereupon', 'myself', 'seemed', 'already', 'wherein', 'another', 'mostly', 'never', 'whether', 'will', 'with', 'very'}\n"
          ],
          "name": "stdout"
        }
      ]
    },
    {
      "cell_type": "code",
      "metadata": {
        "id": "sHBIigZQE4V9",
        "colab": {
          "base_uri": "https://localhost:8080/"
        },
        "outputId": "769acdc1-0f92-430c-caf2-0c5532cd5562"
      },
      "source": [
        "type(stop_words)"
      ],
      "execution_count": null,
      "outputs": [
        {
          "output_type": "execute_result",
          "data": {
            "text/plain": [
              "set"
            ]
          },
          "metadata": {
            "tags": []
          },
          "execution_count": 142
        }
      ]
    },
    {
      "cell_type": "code",
      "metadata": {
        "id": "7dHMySq_FBQ2",
        "colab": {
          "base_uri": "https://localhost:8080/"
        },
        "outputId": "8ea70c39-9f1c-4046-9ce9-ed4868feea20"
      },
      "source": [
        "len(stop_words)"
      ],
      "execution_count": null,
      "outputs": [
        {
          "output_type": "execute_result",
          "data": {
            "text/plain": [
              "326"
            ]
          },
          "metadata": {
            "tags": []
          },
          "execution_count": 143
        }
      ]
    },
    {
      "cell_type": "code",
      "metadata": {
        "id": "y7j2roTsFEK8",
        "colab": {
          "base_uri": "https://localhost:8080/",
          "height": 35
        },
        "outputId": "65852743-cd7c-4b8f-dd0f-14fece2ec95d"
      },
      "source": [
        "string.punctuation"
      ],
      "execution_count": null,
      "outputs": [
        {
          "output_type": "execute_result",
          "data": {
            "application/vnd.google.colaboratory.intrinsic+json": {
              "type": "string"
            },
            "text/plain": [
              "'!\"#$%&\\'()*+,-./:;<=>?@[\\\\]^_`{|}~'"
            ]
          },
          "metadata": {
            "tags": []
          },
          "execution_count": 144
        }
      ]
    },
    {
      "cell_type": "code",
      "metadata": {
        "id": "FqKSUvVhMVnP"
      },
      "source": [
        "def preprocessamento(texto):\n",
        "  # espacos em branco\n",
        "  texto = re.sub(r\" +\", ' ', texto)\n",
        "\n",
        "  documento = pln(texto)\n",
        "  lista = []\n",
        "  for token in documento:\n",
        "    lista.append(token.lemma_)\n",
        "\n",
        "  lista = [palavra for palavra in lista if palavra not in stop_words and palavra not in string.punctuation]\n",
        "  lista = ' '.join([str(elemento) for elemento in lista])\n",
        "\n",
        "  return lista"
      ],
      "execution_count": null,
      "outputs": []
    },
    {
      "cell_type": "code",
      "metadata": {
        "id": "tRT83oKVNHnG",
        "colab": {
          "base_uri": "https://localhost:8080/",
          "height": 69
        },
        "outputId": "a3082157-d8c4-4d4b-e7d8-17e7dfc51d45"
      },
      "source": [
        "texto_teste = lista_sentencas[0]\n",
        "texto_teste"
      ],
      "execution_count": null,
      "outputs": [
        {
          "output_type": "execute_result",
          "data": {
            "application/vnd.google.colaboratory.intrinsic+json": {
              "type": "string"
            },
            "text/plain": [
              "'movie norm of the north: king sized adventure richard finn, tim maltby alan marriott, andrew toth, brian dobson, cole howard, jennifer cameron, jonathan holmes, lee tockar, lisa durupt, maya kay, michael dobson united states, india, south korea, china 2019 children & family movies, comedies before planning an awesome wedding for his grandfather, a polar bear king must take back a stolen artifact from an evil archaeologist first.'"
            ]
          },
          "metadata": {
            "tags": []
          },
          "execution_count": 146
        }
      ]
    },
    {
      "cell_type": "code",
      "metadata": {
        "id": "xL4B5YxYNVrE",
        "colab": {
          "base_uri": "https://localhost:8080/",
          "height": 52
        },
        "outputId": "5acd394c-d3a4-416b-bd3e-e232b7577eab"
      },
      "source": [
        "resultado = preprocessamento(texto_teste)\n",
        "resultado"
      ],
      "execution_count": null,
      "outputs": [
        {
          "output_type": "execute_result",
          "data": {
            "application/vnd.google.colaboratory.intrinsic+json": {
              "type": "string"
            },
            "text/plain": [
              "'movie norm north king size adventure richard finn tim maltby alan marriott andrew toth brian dobson cole howard jennifer cameron jonathan holmes lee tockar lisa durupt maya kay michael dobson united states india south korea china 2019 child family movie comedy plan awesome wedding -PRON- grandfather polar bear king steal artifact evil archaeologist'"
            ]
          },
          "metadata": {
            "tags": []
          },
          "execution_count": 147
        }
      ]
    },
    {
      "cell_type": "code",
      "metadata": {
        "id": "bSK_qMK5Q6QN"
      },
      "source": [
        "lista_sentencas_preprocessada = [preprocessamento(sentenca) for sentenca in lista_sentencas]"
      ],
      "execution_count": null,
      "outputs": []
    },
    {
      "cell_type": "code",
      "metadata": {
        "colab": {
          "base_uri": "https://localhost:8080/",
          "height": 52
        },
        "id": "VkOZDLq9Ce41",
        "outputId": "aea636e4-ff44-480c-95a6-1a0aa0da4954"
      },
      "source": [
        "lista_sentencas_preprocessada[0]"
      ],
      "execution_count": null,
      "outputs": [
        {
          "output_type": "execute_result",
          "data": {
            "application/vnd.google.colaboratory.intrinsic+json": {
              "type": "string"
            },
            "text/plain": [
              "'movie norm north king size adventure richard finn tim maltby alan marriott andrew toth brian dobson cole howard jennifer cameron jonathan holmes lee tockar lisa durupt maya kay michael dobson united states india south korea china 2019 child family movie comedy plan awesome wedding -PRON- grandfather polar bear king steal artifact evil archaeologist'"
            ]
          },
          "metadata": {
            "tags": []
          },
          "execution_count": 149
        }
      ]
    },
    {
      "cell_type": "code",
      "metadata": {
        "id": "XBPRfvv6RJpa",
        "colab": {
          "base_uri": "https://localhost:8080/"
        },
        "outputId": "767d1296-7f28-4867-99f6-77423b3429d6"
      },
      "source": [
        "for _ in range(5):\n",
        "  i = random.randint(0, len(lista_sentencas) - 1)\n",
        "  print(lista_sentencas[i])\n",
        "  print(lista_sentencas_preprocessada[i])\n",
        "  print('-----')"
      ],
      "execution_count": null,
      "outputs": [
        {
          "output_type": "stream",
          "text": [
            "movie candyman bernard rose virginia madsen, tony todd, xander berkeley, kasi lemmons, vanessa williams, dejuan guy, michael culkin, stanley desantis united states, united kingdom 1992 cult movies, horror movies grad student helen lyle unintentionally summons the candyman, a hook-handed creature made flesh by other people's belief in him.\n",
            "movie candyman bernard rise virginia madsen tony todd xander berkeley kasi lemmon vanessa williams dejuan guy michael culkin stanley desantis united states united kingdom 1992 cult movie horror movie grad student helen lyle unintentionally summon candyman hook handed creature flesh people belief -PRON-\n",
            "-----\n",
            "tv show strongland    2018 docuseries, international tv shows from spain's countryside to scotland's stony terrain, this collection of uplifting documentaries explores the cultural roots of great strongman traditions.\n",
            "tv strongland 2018 docuserie international tv spain countryside scotland stony terrain collection uplifting documentary explore cultural root great strongman tradition\n",
            "-----\n",
            "tv show brainchild  sahana srinivasan, alie ward, ben seidman  2018 kids' tv from germs and emotions to social media and more, it's the science of your world explained in a way that's refreshingly relatable.\n",
            "tv brainchild sahana srinivasan alie ward ben seidman 2018 kid tv germ emotion social medium -PRON- science -PRON- world explain way refreshingly relatable\n",
            "-----\n",
            "movie the outcasts peter hutchings victoria justice, eden sher, ashley rickards, claudia lee, katie chang, peyton list, jazmyn richardson, avan jogia, will peltz united states 2017 comedies after failing to strike a truce with their school's queen bee, two misfit best friends lead a nerd uprising that turns social hierarchy on its head.\n",
            "movie outcast peter hutchings victoria justice eden sher ashley rickard claudia lee katie chang peyton list jazmyn richardson avan jogia peltz united states 2017 comedy fail strike truce -PRON- school queen bee misfit good friend lead nerd uprising turn social hierarchy -PRON- head\n",
            "-----\n",
            "movie goldeneye martin campbell pierce brosnan, sean bean, izabella scorupco, famke janssen, joe don baker, judi dench, robbie coltrane, gottfried john, alan cumming, tchéky karyo, desmond llewelyn, samantha bond, michael kitchen, serena gordon, simon kunz united kingdom, united states 1995 action & adventure pierce brosnan takes his first turn as debonair secret agent james bond, who investigates the destruction of a russian satellite weapons base.\n",
            "movie goldeneye martin campbell pierce brosnan sean bean izabella scorupco famke janssen joe don baker judi dench robbie coltrane gottfried john alan cumming tchéky karyo desmond llewelyn samantha bond michael kitchen serena gordon simon kunz united kingdom united states 1995 action adventure pierce brosnan -PRON- turn debonair secret agent james bond investigate destruction russian satellite weapon base\n",
            "-----\n"
          ],
          "name": "stdout"
        }
      ]
    },
    {
      "cell_type": "markdown",
      "metadata": {
        "id": "pT9J3cCQw5Xc"
      },
      "source": [
        "### **03. Frases de boas-vindas**"
      ]
    },
    {
      "cell_type": "code",
      "metadata": {
        "id": "y9_jLFOvSXM_"
      },
      "source": [
        "textos_boas_vindas_entrada = ('hey', 'hi', 'hello', 'sup', 'what')\n",
        "textos_boas_vindas_respostas = ('hey', 'hi', 'hello', 'whats up?', 'welcome!', 'hey, how are you?')\n",
        "\n",
        "def responder_saudacao(texto):\n",
        "  if len(texto.split()) > 6:\n",
        "    return\n",
        "\n",
        "  texto_lemmas = [token.lower_ for token in pln(texto) if token.lemma_ not in string.punctuation]\n",
        "  for lemma in texto_lemmas:\n",
        "    if lemma in textos_boas_vindas_entrada:\n",
        "      return random.choice(textos_boas_vindas_respostas)  "
      ],
      "execution_count": null,
      "outputs": []
    },
    {
      "cell_type": "code",
      "metadata": {
        "id": "RjKYH_dySs40",
        "colab": {
          "base_uri": "https://localhost:8080/",
          "height": 35
        },
        "outputId": "3af944df-89de-4e4f-c505-d19a5406d5b2"
      },
      "source": [
        "responder_saudacao(\"hey, what's up\")"
      ],
      "execution_count": null,
      "outputs": [
        {
          "output_type": "execute_result",
          "data": {
            "application/vnd.google.colaboratory.intrinsic+json": {
              "type": "string"
            },
            "text/plain": [
              "'hello'"
            ]
          },
          "metadata": {
            "tags": []
          },
          "execution_count": 152
        }
      ]
    },
    {
      "cell_type": "markdown",
      "metadata": {
        "id": "NYJOCHXFEwxX"
      },
      "source": [
        "### **04. Frases de despedida**"
      ]
    },
    {
      "cell_type": "code",
      "metadata": {
        "id": "cVcZo4rNE0VD"
      },
      "source": [
        "textos_saida_entrada = ('quit','exit','goodbye', 'bye')\n",
        "textos_saida_respostas = ('see ya', 'goodbye', 'see you later', 'see you soon')\n",
        "\n",
        "def quit_sentence(texto):\n",
        "  if len(texto.split()) > 6:\n",
        "    return\n",
        "\n",
        "  texto_lemmas = [token.lower_ for token in pln(texto) if token.lemma_ not in string.punctuation]\n",
        "  for lemma in texto_lemmas:\n",
        "    if lemma in textos_saida_entrada:\n",
        "      return random.choice(textos_saida_respostas)  "
      ],
      "execution_count": null,
      "outputs": []
    },
    {
      "cell_type": "code",
      "metadata": {
        "colab": {
          "base_uri": "https://localhost:8080/",
          "height": 35
        },
        "id": "jcKhwQSUImZO",
        "outputId": "869461e7-2354-41e3-db40-4ce65e66efdb"
      },
      "source": [
        "quit_sentence(\"bye bye\")"
      ],
      "execution_count": null,
      "outputs": [
        {
          "output_type": "execute_result",
          "data": {
            "application/vnd.google.colaboratory.intrinsic+json": {
              "type": "string"
            },
            "text/plain": [
              "'see you soon'"
            ]
          },
          "metadata": {
            "tags": []
          },
          "execution_count": 154
        }
      ]
    },
    {
      "cell_type": "markdown",
      "metadata": {
        "id": "Isl4ji0SV9hi"
      },
      "source": [
        "### **05. Metodologia**"
      ]
    },
    {
      "cell_type": "markdown",
      "metadata": {
        "id": "S5souV2_WL8F"
      },
      "source": [
        "No pré-processamento da base de dados nós separamos, para cada entrada dela, alguns atributos, como Título, Ano e Descrição, e juntamos em apenas uma sentença. O método de vetorização que utilizaremos não leva em consideração a ordem das palavras e nem a relação entre elas, por isso essa nova sentença não precisa fazer muito sentido e nós só juntamos os atributos de interesse com um espaço em branco. \n",
        "\n",
        "Na conversação com o Chatbot, o usuário irá tentar descrever algumas coisas que ele lembra do filme, como personagens, elenco ou descrição, e nós calcularemos quais entradas da base mais tem similaridade com a sentença do usuário, e retornaremos pra ele uma lista de n filmes e/ou séries que possam ser a que ele tentou descrever. \n",
        "\n",
        "Iremos utilizar uma vetorização TF-IDF para codificar as sentenças e podermos calcular a proximidade entre elas.  A função de distância que utilizaremos será a [Similaridade por Cosseno](https://en.wikipedia.org/wiki/Cosine_similarity). \n",
        "\n",
        "Obs: iremos utilizar os módulos da biblioteca [scikit-learn](http://scikit-learn.org/) para fazer os cálculos, vetorizações e etc."
      ]
    },
    {
      "cell_type": "code",
      "metadata": {
        "id": "BycW6xP3WKJ4"
      },
      "source": [
        "from sklearn.feature_extraction.text import TfidfVectorizer"
      ],
      "execution_count": null,
      "outputs": []
    },
    {
      "cell_type": "code",
      "metadata": {
        "id": "PjqvJOCEbM89"
      },
      "source": [
        "from sklearn.metrics.pairwise import cosine_similarity"
      ],
      "execution_count": null,
      "outputs": []
    },
    {
      "cell_type": "markdown",
      "metadata": {
        "id": "R2Ja_pTCj2Pr"
      },
      "source": [
        "### **06: Função para o chatbot responder ao usuário**"
      ]
    },
    {
      "cell_type": "code",
      "metadata": {
        "id": "-YDmTUlPdP_k"
      },
      "source": [
        "def responder(texto_usuario, max_results):\n",
        "  lista_sentencas_preprocessada.append(preprocessamento(texto_usuario))\n",
        "\n",
        "  tfidf = TfidfVectorizer()\n",
        "  palavras_vetorizadas = tfidf.fit_transform(lista_sentencas_preprocessada)\n",
        "\n",
        "  lista_sentencas_preprocessada.remove(preprocessamento(texto_usuario))\n",
        "\n",
        "  similaridade = cosine_similarity(palavras_vetorizadas[-1], palavras_vetorizadas)\n",
        "\n",
        "  vetor_similar = similaridade.flatten()\n",
        "  vetor_similar.sort()\n",
        "\n",
        "  vetores_encontrados = [vetor_similar[-2-i] for i in range(max_results)]\n",
        "  n_vetores_positivos = len([v for v in vetores_encontrados if v > 0])\n",
        "\n",
        "  if (n_vetores_positivos > 0):\n",
        "    indices_ordenados = similaridade.argsort()[0]\n",
        "    indices_sentencas = [indices_ordenados[-2-i] for i in range(n_vetores_positivos)]\n",
        "    resposta_chatbot = data.iloc[indices_sentencas, :].loc[:, interest_columns]\n",
        "  else:\n",
        "    resposta_chatbot = \"Sorry, I didn't understand that!\"  \n",
        "\n",
        "  return resposta_chatbot"
      ],
      "execution_count": null,
      "outputs": []
    },
    {
      "cell_type": "markdown",
      "metadata": {
        "id": "sd7L570HxlUz"
      },
      "source": [
        "### **07. Conversação**"
      ]
    },
    {
      "cell_type": "code",
      "metadata": {
        "id": "j-9u_8EONJbo"
      },
      "source": [
        "from IPython.display import display, clear_output\n",
        "\n",
        "pd.set_option('display.max_colwidth', None)"
      ],
      "execution_count": null,
      "outputs": []
    },
    {
      "cell_type": "code",
      "metadata": {
        "id": "RebdvM-ufC54",
        "colab": {
          "base_uri": "https://localhost:8080/",
          "height": 924
        },
        "outputId": "fdaa741f-a244-4804-b426-da8c5f7eafd7"
      },
      "source": [
        "bot_name = \"Netflickerson\"\n",
        "\n",
        "bot_description = \"\"\"\n",
        "Hi, I am {} and I will try to guess movies and tv shows from Netflix.\n",
        "You can provide me with a quick description, cast members, years and show type (MOVIE or TV SHOW).\n",
        "I'll try my best to be helpful!\n",
        "\n",
        "================================\n",
        "\"\"\".format(bot_name)\n",
        "\n",
        "print(bot_description)\n",
        "\n",
        "while (True):\n",
        "  print(\"Type your sentence below:\")\n",
        "  texto_usuario = input()\n",
        "  texto_usuario = texto_usuario.lower()\n",
        "  if (quit_sentence(texto_usuario) != None):\n",
        "    clear_output(wait=False)\n",
        "    print('{}: {}!'.format(bot_name, quit_sentence(texto_usuario)))\n",
        "    break\n",
        "\n",
        "  if (responder_saudacao(texto_usuario) != None):\n",
        "    print('{}: {}\\n'.format(bot_name, responder_saudacao(texto_usuario)))\n",
        "    continue\n",
        "\n",
        "  clear_output(wait=True)\n",
        "  print(bot_description)\n",
        "\n",
        "  print('{}: '.format(bot_name))\n",
        "  print(\"Your sentence was: {}\\n\".format(texto_usuario))\n",
        "  print(\"My results are:\")\n",
        "  display(responder(texto_usuario, max_results=3))\n",
        "  print(\"\\n\")"
      ],
      "execution_count": null,
      "outputs": [
        {
          "output_type": "stream",
          "text": [
            "Netflickerson: see ya!\n"
          ],
          "name": "stdout"
        }
      ]
    },
    {
      "cell_type": "markdown",
      "metadata": {
        "id": "1M0Uxk2eWDfI"
      },
      "source": [
        "### **08. Conclusão**"
      ]
    },
    {
      "cell_type": "markdown",
      "metadata": {
        "id": "CVQgfesZaBpF"
      },
      "source": [
        "Ficamos satisfeitos com o resultado desse projeto, pois o bot pode ser uma ferramenta de busca utilizada para tentar identificar nomes de shows dos quais o usuário não se lembra, ou então para identificar shows em que algum ator ou atriz de sua preferência aparece, entre outras aplicações.\n",
        "\n",
        "Não ficou uma ferramenta de busca tão rebuscada, pois algumas sentenças simples como \"a movie with \\[...\\]\" não filtram apenas filmes, pois é uma palavra que repete quase metade da base de dados, então o algoritmo não da muita importância pra ela por causa da vetorização TF-IDF.\n",
        "\n",
        "Apesar disso, buscas como \"Madagascar\" ou \"Transformers\" filtram bem melhor os resultados, pois são palavras que aparecem em poucos shows.\n",
        "\n",
        "Nós tentamos deixar a conversação amigável pro usuário e formatamos a saída para que fosse bem intuitiva. Acreditamos que o resultado ficou uma experiência agradável."
      ]
    }
  ]
}